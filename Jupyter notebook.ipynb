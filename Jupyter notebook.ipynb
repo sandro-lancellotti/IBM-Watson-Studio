{
    "cells": [
        {
            "cell_type": "markdown",
            "metadata": {},
            "source": "# First Jupyter notebook on Watson studio "
        },
        {
            "cell_type": "code",
            "execution_count": 1,
            "metadata": {},
            "outputs": [
                {
                    "data": {
                        "text/html": "<div>\n<style scoped>\n    .dataframe tbody tr th:only-of-type {\n        vertical-align: middle;\n    }\n\n    .dataframe tbody tr th {\n        vertical-align: top;\n    }\n\n    .dataframe thead th {\n        text-align: right;\n    }\n</style>\n<table border=\"1\" class=\"dataframe\">\n  <thead>\n    <tr style=\"text-align: right;\">\n      <th></th>\n      <th>city</th>\n      <th>country</th>\n      <th>latitude</th>\n      <th>longitude</th>\n      <th>temperature</th>\n    </tr>\n  </thead>\n  <tbody>\n    <tr>\n      <th>0</th>\n      <td>Aalborg</td>\n      <td>Denmark</td>\n      <td>57.03</td>\n      <td>9.92</td>\n      <td>7.52</td>\n    </tr>\n    <tr>\n      <th>1</th>\n      <td>Aberdeen</td>\n      <td>United Kingdom</td>\n      <td>57.17</td>\n      <td>-2.08</td>\n      <td>8.10</td>\n    </tr>\n    <tr>\n      <th>2</th>\n      <td>Abisko</td>\n      <td>Sweden</td>\n      <td>63.35</td>\n      <td>18.83</td>\n      <td>0.20</td>\n    </tr>\n    <tr>\n      <th>3</th>\n      <td>Adana</td>\n      <td>Turkey</td>\n      <td>36.99</td>\n      <td>35.32</td>\n      <td>18.67</td>\n    </tr>\n    <tr>\n      <th>4</th>\n      <td>Albacete</td>\n      <td>Spain</td>\n      <td>39.00</td>\n      <td>-1.87</td>\n      <td>12.62</td>\n    </tr>\n  </tbody>\n</table>\n</div>",
                        "text/plain": "       city         country  latitude  longitude  temperature\n0   Aalborg         Denmark     57.03       9.92         7.52\n1  Aberdeen  United Kingdom     57.17      -2.08         8.10\n2    Abisko          Sweden     63.35      18.83         0.20\n3     Adana          Turkey     36.99      35.32        18.67\n4  Albacete           Spain     39.00      -1.87        12.62"
                    },
                    "execution_count": 1,
                    "metadata": {},
                    "output_type": "execute_result"
                }
            ],
            "source": "# The code was removed by Watson Studio for sharing."
        },
        {
            "cell_type": "code",
            "execution_count": null,
            "metadata": {},
            "outputs": [],
            "source": ""
        }
    ],
    "metadata": {
        "kernelspec": {
            "display_name": "Python 3.6",
            "language": "python",
            "name": "python3"
        },
        "language_info": {
            "codemirror_mode": {
                "name": "ipython",
                "version": 3
            },
            "file_extension": ".py",
            "mimetype": "text/x-python",
            "name": "python",
            "nbconvert_exporter": "python",
            "pygments_lexer": "ipython3",
            "version": "3.6.9"
        }
    },
    "nbformat": 4,
    "nbformat_minor": 1
}